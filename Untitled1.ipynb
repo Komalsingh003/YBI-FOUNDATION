{
  "nbformat": 4,
  "nbformat_minor": 0,
  "metadata": {
    "colab": {
      "provenance": [],
      "authorship_tag": "ABX9TyN0W3iJgfsxYk2G9LPs8cfM",
      "include_colab_link": true
    },
    "kernelspec": {
      "name": "python3",
      "display_name": "Python 3"
    },
    "language_info": {
      "name": "python"
    }
  },
  "cells": [
    {
      "cell_type": "markdown",
      "metadata": {
        "id": "view-in-github",
        "colab_type": "text"
      },
      "source": [
        "<a href=\"https://colab.research.google.com/github/Komalsingh003/YBI-FOUNDATION/blob/main/Untitled1.ipynb\" target=\"_parent\"><img src=\"https://colab.research.google.com/assets/colab-badge.svg\" alt=\"Open In Colab\"/></a>"
      ]
    },
    {
      "cell_type": "code",
      "execution_count": 6,
      "metadata": {
        "colab": {
          "base_uri": "https://localhost:8080/",
          "height": 227
        },
        "id": "483G0c7TGnRb",
        "outputId": "c293e6e1-f1d8-4dc5-c155-1e773334ddce"
      },
      "outputs": [
        {
          "output_type": "display_data",
          "data": {
            "text/plain": [
              "<Figure size 1000x300 with 4 Axes>"
            ],
            "image/png": "[encoded data removed]"
          },
          "metadata": {}
        }
      ],
      "source": [
        "import pandas as pd\n",
        "import numpy as pd\n",
        "import matplotlib.pyplot as plt\n",
        "from sklearn.datasets import load_digits\n",
        "df = load_digits()\n",
        "_, axes = plt.subplots(nrows=1, ncols=4, figsize=(10,3))\n",
        "for ax, image, label in zip(axes, df.images, df.target):\n",
        "  ax.set_axis_off()\n",
        "  ax.imshow(image, cmap=plt.cm.gray_r, interpolation=\"nearest\")\n",
        "  ax.set_title(\"Training: %i\" % label)\n",
        ""
      ]
    },
    {
      "cell_type": "code",
      "source": [
        " df.images.shape\n",
        ""
      ],
      "metadata": {
        "colab": {
          "base_uri": "https://localhost:8080/"
        },
        "id": "nbRHNojGVmPQ",
        "outputId": "99c34d4d-e347-49bd-c273-9785c99ab554"
      },
      "execution_count": 8,
      "outputs": [
        {
          "output_type": "execute_result",
          "data": {
            "text/plain": [
              "(1797, 8, 8)"
            ]
          },
          "metadata": {},
          "execution_count": 8
        }
      ]
    },
    {
      "cell_type": "code",
      "source": [
        " df.images[0]\n",
        ""
      ],
      "metadata": {
        "colab": {
          "base_uri": "https://localhost:8080/"
        },
        "id": "TUhoHEIBV2CP",
        "outputId": "1af79285-4ff1-4d78-d07e-0341847a93dd"
      },
      "execution_count": 9,
      "outputs": [
        {
          "output_type": "execute_result",
          "data": {
            "text/plain": [
              "array([[ 0.,  0.,  5., 13.,  9.,  1.,  0.,  0.],\n",
              "       [ 0.,  0., 13., 15., 10., 15.,  5.,  0.],\n",
              "       [ 0.,  3., 15.,  2.,  0., 11.,  8.,  0.],\n",
              "       [ 0.,  4., 12.,  0.,  0.,  8.,  8.,  0.],\n",
              "       [ 0.,  5.,  8.,  0.,  0.,  9.,  8.,  0.],\n",
              "       [ 0.,  4., 11.,  0.,  1., 12.,  7.,  0.],\n",
              "       [ 0.,  2., 14.,  5., 10., 12.,  0.,  0.],\n",
              "       [ 0.,  0.,  6., 13., 10.,  0.,  0.,  0.]])"
            ]
          },
          "metadata": {},
          "execution_count": 9
        }
      ]
    },
    {
      "cell_type": "code",
      "source": [
        "\n",
        "  df.images[0].shape\n",
        "\n"
      ],
      "metadata": {
        "colab": {
          "base_uri": "https://localhost:8080/"
        },
        "id": "HR9liRTLV-vN",
        "outputId": "e54d98bc-86dd-43df-c762-e94e9d626144"
      },
      "execution_count": 11,
      "outputs": [
        {
          "output_type": "execute_result",
          "data": {
            "text/plain": [
              "(8, 8)"
            ]
          },
          "metadata": {},
          "execution_count": 11
        }
      ]
    },
    {
      "cell_type": "code",
      "source": [
        " len(df.images)\n",
        "\n",
        "\n",
        "\n"
      ],
      "metadata": {
        "colab": {
          "base_uri": "https://localhost:8080/"
        },
        "id": "12wQmApbWKNd",
        "outputId": "58870166-45b6-412c-8ffd-ebc2ed8dc331"
      },
      "execution_count": 12,
      "outputs": [
        {
          "output_type": "execute_result",
          "data": {
            "text/plain": [
              "1797"
            ]
          },
          "metadata": {},
          "execution_count": 12
        }
      ]
    },
    {
      "cell_type": "code",
      "source": [
        "n_samples = len(df.images)\n",
        "data = df.images.reshape((n_samples, -1))\n",
        "data[0]"
      ],
      "metadata": {
        "colab": {
          "base_uri": "https://localhost:8080/"
        },
        "id": "-qcnAPOHWPT_",
        "outputId": "b30c513d-7b7a-48ca-dcb4-0f6e20611446"
      },
      "execution_count": 14,
      "outputs": [
        {
          "output_type": "execute_result",
          "data": {
            "text/plain": [
              "array([ 0.,  0.,  5., 13.,  9.,  1.,  0.,  0.,  0.,  0., 13., 15., 10.,\n",
              "       15.,  5.,  0.,  0.,  3., 15.,  2.,  0., 11.,  8.,  0.,  0.,  4.,\n",
              "       12.,  0.,  0.,  8.,  8.,  0.,  0.,  5.,  8.,  0.,  0.,  9.,  8.,\n",
              "        0.,  0.,  4., 11.,  0.,  1., 12.,  7.,  0.,  0.,  2., 14.,  5.,\n",
              "       10., 12.,  0.,  0.,  0.,  0.,  6., 13., 10.,  0.,  0.,  0.])"
            ]
          },
          "metadata": {},
          "execution_count": 14
        }
      ]
    },
    {
      "cell_type": "code",
      "source": [
        "data[0].shape"
      ],
      "metadata": {
        "colab": {
          "base_uri": "https://localhost:8080/"
        },
        "id": "updzNJGUW6W9",
        "outputId": "d0314e46-c1e9-4317-d571-1e2953dffe7b"
      },
      "execution_count": 15,
      "outputs": [
        {
          "output_type": "execute_result",
          "data": {
            "text/plain": [
              "(64,)"
            ]
          },
          "metadata": {},
          "execution_count": 15
        }
      ]
    },
    {
      "cell_type": "code",
      "source": [
        "data.shape"
      ],
      "metadata": {
        "colab": {
          "base_uri": "https://localhost:8080/"
        },
        "id": "Hk6dgM3gXHC5",
        "outputId": "0057cbb7-2b2b-4c67-8e68-0e50f2e2a05b"
      },
      "execution_count": 16,
      "outputs": [
        {
          "output_type": "execute_result",
          "data": {
            "text/plain": [
              "(1797, 64)"
            ]
          },
          "metadata": {},
          "execution_count": 16
        }
      ]
    },
    {
      "cell_type": "code",
      "source": [
        "data.min()"
      ],
      "metadata": {
        "colab": {
          "base_uri": "https://localhost:8080/"
        },
        "id": "kYbXNq-OXK_Y",
        "outputId": "e905bd07-e34f-4016-e7b7-8033711254a2"
      },
      "execution_count": 18,
      "outputs": [
        {
          "output_type": "execute_result",
          "data": {
            "text/plain": [
              "0.0"
            ]
          },
          "metadata": {},
          "execution_count": 18
        }
      ]
    },
    {
      "cell_type": "code",
      "source": [
        "data.max()"
      ],
      "metadata": {
        "colab": {
          "base_uri": "https://localhost:8080/"
        },
        "id": "InDsILQZXOlW",
        "outputId": "21af8451-d43d-4c35-ce7e-35f5edff9df1"
      },
      "execution_count": 19,
      "outputs": [
        {
          "output_type": "execute_result",
          "data": {
            "text/plain": [
              "16.0"
            ]
          },
          "metadata": {},
          "execution_count": 19
        }
      ]
    },
    {
      "cell_type": "code",
      "source": [
        "data = data/16"
      ],
      "metadata": {
        "id": "tQwLlVQRXSwd"
      },
      "execution_count": 20,
      "outputs": []
    },
    {
      "cell_type": "code",
      "source": [
        "data.min()"
      ],
      "metadata": {
        "colab": {
          "base_uri": "https://localhost:8080/"
        },
        "id": "iqWCYTbVXWwP",
        "outputId": "fc692813-85f3-403f-cbd1-831d9c811239"
      },
      "execution_count": 21,
      "outputs": [
        {
          "output_type": "execute_result",
          "data": {
            "text/plain": [
              "0.0"
            ]
          },
          "metadata": {},
          "execution_count": 21
        }
      ]
    },
    {
      "cell_type": "code",
      "source": [
        "data.min()"
      ],
      "metadata": {
        "colab": {
          "base_uri": "https://localhost:8080/"
        },
        "id": "dMy0vRo7XaWR",
        "outputId": "a173b4a4-2c44-40e1-a414-4496edcce2af"
      },
      "execution_count": 22,
      "outputs": [
        {
          "output_type": "execute_result",
          "data": {
            "text/plain": [
              "0.0"
            ]
          },
          "metadata": {},
          "execution_count": 22
        }
      ]
    },
    {
      "cell_type": "code",
      "source": [
        "data.max()"
      ],
      "metadata": {
        "colab": {
          "base_uri": "https://localhost:8080/"
        },
        "id": "bMGxuSPSXdSj",
        "outputId": "f93c3763-95a7-4678-a770-7a3777467b80"
      },
      "execution_count": 23,
      "outputs": [
        {
          "output_type": "execute_result",
          "data": {
            "text/plain": [
              "1.0"
            ]
          },
          "metadata": {},
          "execution_count": 23
        }
      ]
    },
    {
      "cell_type": "code",
      "source": [
        "data[0]"
      ],
      "metadata": {
        "colab": {
          "base_uri": "https://localhost:8080/"
        },
        "id": "Df7IZwpBXfxv",
        "outputId": "0a427dc2-df48-4895-9322-cc624a15818f"
      },
      "execution_count": 24,
      "outputs": [
        {
          "output_type": "execute_result",
          "data": {
            "text/plain": [
              "array([0.    , 0.    , 0.3125, 0.8125, 0.5625, 0.0625, 0.    , 0.    ,\n",
              "       0.    , 0.    , 0.8125, 0.9375, 0.625 , 0.9375, 0.3125, 0.    ,\n",
              "       0.    , 0.1875, 0.9375, 0.125 , 0.    , 0.6875, 0.5   , 0.    ,\n",
              "       0.    , 0.25  , 0.75  , 0.    , 0.    , 0.5   , 0.5   , 0.    ,\n",
              "       0.    , 0.3125, 0.5   , 0.    , 0.    , 0.5625, 0.5   , 0.    ,\n",
              "       0.    , 0.25  , 0.6875, 0.    , 0.0625, 0.75  , 0.4375, 0.    ,\n",
              "       0.    , 0.125 , 0.875 , 0.3125, 0.625 , 0.75  , 0.    , 0.    ,\n",
              "       0.    , 0.    , 0.375 , 0.8125, 0.625 , 0.    , 0.    , 0.    ])"
            ]
          },
          "metadata": {},
          "execution_count": 24
        }
      ]
    },
    {
      "cell_type": "code",
      "source": [
        "\n",
        "  from sklearn.model_selection import train_test_split\n",
        "  X_train, X_test, y_train, y_test = train_test_split(data, df.target, test_size=0.3)\n",
        "  X_train.shape, X_test.shape, y_train.shape, y_test.shape\n",
        ""
      ],
      "metadata": {
        "colab": {
          "base_uri": "https://localhost:8080/"
        },
        "id": "oakuV40LXjEb",
        "outputId": "39ae8eda-260c-48ad-856f-0aa3726b2beb"
      },
      "execution_count": 26,
      "outputs": [
        {
          "output_type": "execute_result",
          "data": {
            "text/plain": [
              "((1257, 64), (540, 64), (1257,), (540,))"
            ]
          },
          "metadata": {},
          "execution_count": 26
        }
      ]
    },
    {
      "cell_type": "code",
      "source": [
        "from sklearn.ensemble import RandomForestClassifier\n",
        "rf = RandomForestClassifier()\n",
        "rf.fit(X_train, y_train)"
      ],
      "metadata": {
        "colab": {
          "base_uri": "https://localhost:8080/",
          "height": 75
        },
        "id": "S2-0YNu9Y1I6",
        "outputId": "2af1030b-53a4-4136-d7ed-58d0ffab0c9c"
      },
      "execution_count": 30,
      "outputs": [
        {
          "output_type": "execute_result",
          "data": {
            "text/plain": [
              "RandomForestClassifier()"
            ],
            "text/html": [
              "<style>#sk-container-id-2 {color: black;background-color: white;}#sk-container-id-2 pre{padding: 0;}#sk-container-id-2 div.sk-toggleable {background-color: white;}#sk-container-id-2 label.sk-toggleable__label {cursor: pointer;display: block;width: 100%;margin-bottom: 0;padding: 0.3em;box-sizing: border-box;text-align: center;}#sk-container-id-2 label.sk-toggleable__label-arrow:before {content: \"▸\";float: left;margin-right: 0.25em;color: #696969;}#sk-container-id-2 label.sk-toggleable__label-arrow:hover:before {color: black;}#sk-container-id-2 div.sk-estimator:hover label.sk-toggleable__label-arrow:before {color: black;}#sk-container-id-2 div.sk-toggleable__content {max-height: 0;max-width: 0;overflow: hidden;text-align: left;background-color: #f0f8ff;}#sk-container-id-2 div.sk-toggleable__content pre {margin: 0.2em;color: black;border-radius: 0.25em;background-color: #f0f8ff;}#sk-container-id-2 input.sk-toggleable__control:checked~div.sk-toggleable__content {max-height: 200px;max-width: 100%;overflow: auto;}#sk-container-id-2 input.sk-toggleable__control:checked~label.sk-toggleable__label-arrow:before {content: \"▾\";}#sk-container-id-2 div.sk-estimator input.sk-toggleable__control:checked~label.sk-toggleable__label {background-color: #d4ebff;}#sk-container-id-2 div.sk-label input.sk-toggleable__control:checked~label.sk-toggleable__label {background-color: #d4ebff;}#sk-container-id-2 input.sk-hidden--visually {border: 0;clip: rect(1px 1px 1px 1px);clip: rect(1px, 1px, 1px, 1px);height: 1px;margin: -1px;overflow: hidden;padding: 0;position: absolute;width: 1px;}#sk-container-id-2 div.sk-estimator {font-family: monospace;background-color: #f0f8ff;border: 1px dotted black;border-radius: 0.25em;box-sizing: border-box;margin-bottom: 0.5em;}#sk-container-id-2 div.sk-estimator:hover {background-color: #d4ebff;}#sk-container-id-2 div.sk-parallel-item::after {content: \"\";width: 100%;border-bottom: 1px solid gray;flex-grow: 1;}#sk-container-id-2 div.sk-label:hover label.sk-toggleable__label {background-color: #d4ebff;}#sk-container-id-2 div.sk-serial::before {content: \"\";position: absolute;border-left: 1px solid gray;box-sizing: border-box;top: 0;bottom: 0;left: 50%;z-index: 0;}#sk-container-id-2 div.sk-serial {display: flex;flex-direction: column;align-items: center;background-color: white;padding-right: 0.2em;padding-left: 0.2em;position: relative;}#sk-container-id-2 div.sk-item {position: relative;z-index: 1;}#sk-container-id-2 div.sk-parallel {display: flex;align-items: stretch;justify-content: center;background-color: white;position: relative;}#sk-container-id-2 div.sk-item::before, #sk-container-id-2 div.sk-parallel-item::before {content: \"\";position: absolute;border-left: 1px solid gray;box-sizing: border-box;top: 0;bottom: 0;left: 50%;z-index: -1;}#sk-container-id-2 div.sk-parallel-item {display: flex;flex-direction: column;z-index: 1;position: relative;background-color: white;}#sk-container-id-2 div.sk-parallel-item:first-child::after {align-self: flex-end;width: 50%;}#sk-container-id-2 div.sk-parallel-item:last-child::after {align-self: flex-start;width: 50%;}#sk-container-id-2 div.sk-parallel-item:only-child::after {width: 0;}#sk-container-id-2 div.sk-dashed-wrapped {border: 1px dashed gray;margin: 0 0.4em 0.5em 0.4em;box-sizing: border-box;padding-bottom: 0.4em;background-color: white;}#sk-container-id-2 div.sk-label label {font-family: monospace;font-weight: bold;display: inline-block;line-height: 1.2em;}#sk-container-id-2 div.sk-label-container {text-align: center;}#sk-container-id-2 div.sk-container {/* jupyter's `normalize.less` sets `[hidden] { display: none; }` but bootstrap.min.css set `[hidden] { display: none !important; }` so we also need the `!important` here to be able to override the default hidden behavior on the sphinx rendered scikit-learn.org. See: https://github.com/scikit-learn/scikit-learn/issues/21755 */display: inline-block !important;position: relative;}#sk-container-id-2 div.sk-text-repr-fallback {display: none;}</style><div id=\"sk-container-id-2\" class=\"sk-top-container\"><div class=\"sk-text-repr-fallback\"><pre>RandomForestClassifier()</pre><b>In a Jupyter environment, please rerun this cell to show the HTML representation or trust the notebook. <br />On GitHub, the HTML representation is unable to render, please try loading this page with nbviewer.org.</b></div><div class=\"sk-container\" hidden><div class=\"sk-item\"><div class=\"sk-estimator sk-toggleable\"><input class=\"sk-toggleable__control sk-hidden--visually\" id=\"sk-estimator-id-2\" type=\"checkbox\" checked><label for=\"sk-estimator-id-2\" class=\"sk-toggleable__label sk-toggleable__label-arrow\">RandomForestClassifier</label><div class=\"sk-toggleable__content\"><pre>RandomForestClassifier()</pre></div></div></div></div></div>"
            ]
          },
          "metadata": {},
          "execution_count": 30
        }
      ]
    },
    {
      "cell_type": "code",
      "source": [
        "y_pred = rf.predict(X_test)\n",
        "y_pred"
      ],
      "metadata": {
        "colab": {
          "base_uri": "https://localhost:8080/"
        },
        "id": "ZDKJbintZV4Q",
        "outputId": "a886aa69-60ef-4da5-e77c-5a8c3367e7d6"
      },
      "execution_count": 31,
      "outputs": [
        {
          "output_type": "execute_result",
          "data": {
            "text/plain": [
              "array([9, 5, 6, 5, 5, 0, 8, 4, 9, 7, 8, 7, 3, 2, 2, 3, 9, 4, 0, 3, 9, 8,\n",
              "       7, 4, 8, 3, 9, 4, 6, 1, 9, 7, 3, 4, 4, 3, 3, 6, 0, 8, 5, 1, 5, 6,\n",
              "       8, 7, 9, 8, 6, 6, 3, 0, 7, 6, 6, 8, 0, 1, 2, 3, 3, 8, 8, 6, 9, 6,\n",
              "       1, 7, 6, 7, 6, 7, 3, 6, 9, 2, 1, 7, 4, 8, 2, 5, 3, 9, 1, 1, 4, 4,\n",
              "       9, 9, 7, 0, 4, 0, 0, 1, 5, 2, 4, 2, 5, 4, 5, 6, 7, 9, 9, 6, 2, 6,\n",
              "       5, 6, 2, 2, 5, 5, 4, 7, 6, 2, 0, 6, 5, 2, 8, 6, 3, 4, 8, 2, 3, 4,\n",
              "       9, 8, 1, 1, 1, 8, 3, 7, 5, 8, 4, 7, 9, 9, 1, 3, 2, 1, 1, 3, 4, 5,\n",
              "       8, 9, 9, 0, 8, 1, 0, 2, 4, 6, 1, 2, 6, 3, 4, 0, 8, 3, 7, 5, 6, 4,\n",
              "       9, 8, 7, 3, 0, 4, 2, 4, 4, 0, 0, 1, 4, 1, 7, 0, 5, 5, 0, 4, 8, 9,\n",
              "       7, 6, 9, 5, 6, 1, 0, 8, 2, 2, 6, 0, 3, 8, 0, 8, 4, 8, 2, 7, 0, 9,\n",
              "       5, 4, 7, 4, 8, 8, 7, 8, 3, 7, 9, 8, 3, 5, 3, 7, 7, 5, 7, 9, 5, 7,\n",
              "       7, 2, 4, 5, 4, 9, 3, 2, 4, 8, 6, 2, 5, 3, 2, 3, 4, 0, 8, 9, 8, 9,\n",
              "       1, 7, 0, 1, 7, 0, 6, 5, 5, 8, 1, 5, 0, 3, 5, 6, 5, 8, 8, 6, 4, 0,\n",
              "       4, 2, 8, 2, 3, 6, 2, 6, 8, 1, 4, 2, 9, 2, 0, 7, 5, 4, 4, 5, 9, 7,\n",
              "       2, 3, 7, 9, 1, 3, 0, 8, 5, 0, 0, 1, 9, 8, 1, 6, 0, 9, 9, 1, 9, 6,\n",
              "       5, 4, 5, 6, 4, 0, 2, 8, 5, 5, 6, 0, 0, 5, 4, 7, 9, 3, 8, 6, 7, 4,\n",
              "       8, 5, 9, 1, 9, 3, 7, 7, 6, 8, 6, 7, 7, 4, 9, 8, 4, 6, 6, 1, 2, 8,\n",
              "       3, 5, 4, 1, 3, 1, 5, 6, 0, 8, 2, 1, 6, 9, 7, 2, 9, 3, 2, 1, 3, 7,\n",
              "       9, 7, 1, 7, 0, 6, 7, 1, 4, 0, 7, 2, 0, 0, 0, 2, 0, 9, 7, 3, 0, 5,\n",
              "       0, 5, 2, 4, 3, 3, 0, 5, 5, 3, 8, 2, 0, 8, 2, 1, 7, 5, 7, 8, 6, 1,\n",
              "       1, 3, 8, 8, 2, 1, 5, 7, 6, 8, 2, 9, 4, 0, 5, 0, 1, 9, 7, 0, 1, 8,\n",
              "       6, 7, 6, 5, 0, 0, 8, 0, 3, 5, 5, 4, 9, 3, 6, 8, 7, 6, 3, 1, 4, 9,\n",
              "       8, 7, 1, 3, 5, 7, 0, 7, 6, 1, 7, 2, 7, 1, 3, 8, 1, 1, 2, 5, 5, 2,\n",
              "       9, 8, 3, 2, 5, 7, 9, 7, 3, 2, 8, 6, 7, 4, 3, 2, 6, 9, 6, 5, 2, 1,\n",
              "       8, 3, 1, 5, 9, 1, 6, 9, 2, 8, 3, 6])"
            ]
          },
          "metadata": {},
          "execution_count": 31
        }
      ]
    },
    {
      "cell_type": "code",
      "source": [
        "\n",
        "  from sklearn.metrics import confusion_matrix, classification_report\n",
        "  confusion_matrix(y_test, y_pred)\n",
        ""
      ],
      "metadata": {
        "colab": {
          "base_uri": "https://localhost:8080/"
        },
        "id": "mDXe1X1PZiyF",
        "outputId": "4bacc141-d851-4083-a010-61cad297bb63"
      },
      "execution_count": 32,
      "outputs": [
        {
          "output_type": "execute_result",
          "data": {
            "text/plain": [
              "array([[51,  0,  0,  0,  2,  0,  0,  0,  0,  0],\n",
              "       [ 0, 50,  0,  0,  0,  0,  0,  0,  0,  0],\n",
              "       [ 0,  0, 50,  0,  0,  0,  0,  0,  0,  0],\n",
              "       [ 0,  0,  0, 50,  0,  0,  0,  0,  1,  1],\n",
              "       [ 0,  0,  0,  0, 48,  0,  0,  1,  0,  0],\n",
              "       [ 0,  0,  0,  0,  0, 57,  0,  0,  1,  1],\n",
              "       [ 1,  0,  0,  0,  0,  0, 56,  0,  0,  0],\n",
              "       [ 0,  0,  0,  0,  0,  0,  0, 59,  0,  0],\n",
              "       [ 0,  0,  0,  0,  0,  0,  0,  0, 57,  0],\n",
              "       [ 0,  0,  0,  2,  0,  0,  0,  0,  2, 50]])"
            ]
          },
          "metadata": {},
          "execution_count": 32
        }
      ]
    },
    {
      "cell_type": "code",
      "source": [],
      "metadata": {
        "id": "dBbL1F7EaYAE"
      },
      "execution_count": null,
      "outputs": []
    }
  ]
}